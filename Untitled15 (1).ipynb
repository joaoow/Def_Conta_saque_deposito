{
  "nbformat": 4,
  "nbformat_minor": 0,
  "metadata": {
    "colab": {
      "provenance": []
    },
    "kernelspec": {
      "name": "python3",
      "display_name": "Python 3"
    },
    "language_info": {
      "name": "python"
    }
  },
  "cells": [
    {
      "cell_type": "code",
      "source": [
        "class Conta:\n",
        "  def __init__(self, numero, cpf, nomeTitular, saldo):\n",
        "    self.numero = numero\n",
        "    self.cpf = cpf\n",
        "    self.nomeTitular = nomeTitular\n",
        "    self.saldo = saldo\n",
        "\n",
        "  def depositar(self, valor):\n",
        "    self.saldo += valor\n",
        "\n",
        "  def sacar(self, valor):\n",
        "    self.saldo -= valor\n",
        "\n",
        "  def gerar_extrato(self):\n",
        "    print(f'Número: {self.numero} \\n cpf: {self.cpf}\\nsaldo: {self.saldo}')\n",
        "\n",
        "def main():\n",
        "    c1 = Conta(1,1,\"Joao\",0)\n",
        "    c1.depositar(300)\n",
        "    c1.sacar(100)\n",
        "    c1.gerar_extrato()\n",
        "\n",
        "if __name__ == \"__main__\":\n",
        "    main()"
      ],
      "metadata": {
        "colab": {
          "base_uri": "https://localhost:8080/"
        },
        "id": "NP2lF4DmVIJa",
        "outputId": "e13743e8-70bd-4ea6-e766-c421f725f96f"
      },
      "execution_count": 2,
      "outputs": [
        {
          "output_type": "stream",
          "name": "stdout",
          "text": [
            "Número: 1 \n",
            " cpf: 1\n",
            "saldo: 200\n"
          ]
        }
      ]
    }
  ]
}